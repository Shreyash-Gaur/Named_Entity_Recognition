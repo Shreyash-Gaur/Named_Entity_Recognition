{
 "cells": [
  {
   "cell_type": "markdown",
   "id": "e5d4e6f3-fa38-432f-a3ad-8c0b26105eb0",
   "metadata": {},
   "source": [
    "# 2 - Named Entity Recognition (NER)\n",
    "\n",
    "In this, we will learn to build more complicated models with Tensorflow. By completing this, we will be able to: \n",
    "\n",
    "- Design the architecture of a neural network, train it, and test it. \n",
    "- Process features and represents them\n",
    "- Understand word padding\n",
    "- Implement LSTMs\n",
    "- Test with our own sentence\n",
    "\n",
    "\n",
    "# Outline\n",
    "- [ 1 - Introduction](#1)\n",
    "- [ 2 - Exploring the Data](#2)\n",
    "  - [ 2.1 - Importing the Data](#2.1)\n",
    "- [ 3 -  Encoding](#3)\n",
    "  - [ 3.1 Enconding the sentences](#3.1)\n",
    "  - [ 3.2 Encoding the labels](#3.2)\n",
    "  - [ 3.3 Padding the labels](#3.3)\n",
    "  - [ 3.4 Building the label vectorizer](#3.4)\n",
    "  - [ 3.5 - Considerations about RNNs and LSTMs inputs](#3.5)\n",
    "- [ 4 - Building the Model](#4)\n",
    "  - [ 4.1 Model structure](#4.1)\n",
    "  - [ 4.2 Masked loss and metrics](#4.2)\n",
    "  - [ 4.3 A note on padding](#4.3)\n",
    "  - [ 4.4 - Training the Model](#4.4)\n",
    "- [ 5 - Compute Accuracy](#5)\n",
    "- [ 6 - Testing with our Own Sentence](#6)\n"
   ]
  },
  {
   "cell_type": "markdown",
   "id": "decb5e98-803a-424f-b3b4-2af238f19bab",
   "metadata": {},
   "source": [
    "<a name=\"1\"></a>\n",
    "## 1 - Introduction\n",
    "\n",
    "Let's begin by defining what a named entity recognition (NER) is. NER is a subtask of information extraction that locates and classifies named entities in a text. The named entities could be organizations, persons, locations, times, etc. \n",
    "\n",
    "For example:\n",
    "\n",
    "<img src = 'images/ner.png' width=\"width\" height=\"height\" style=\"width:600px;height:150px;\"/>\n",
    "\n",
    "Is labeled as follows: \n",
    "\n",
    "- French: geopolitical entity\n",
    "- Morocco: geographic entity \n",
    "- Christmas: time indicator\n",
    "\n",
    "Everything else that is labeled with an `O` is not considered to be a named entity. In this, we will train a named entity recognition system that could be trained in a few seconds (on a GPU) and will get around 75% accuracy. we will then evaluate our model and see we get 97% accuracy! Finally, we will be able to test our named entity recognition system with our own sentence."
   ]
  },
  {
   "cell_type": "code",
   "execution_count": 1,
   "id": "afb0ebbb-458e-489a-bfa0-8bfb44fa28a8",
   "metadata": {},
   "outputs": [],
   "source": [
    "import os\n",
    "os.environ['TF_CPP_MIN_LOG_LEVEL'] = '3'\n",
    "\n",
    "import numpy as np\n",
    "import pandas as pd\n",
    "import tensorflow as tf\n",
    "\n",
    "# set random seeds to make this notebook easier to replicate\n",
    "tf.keras.utils.set_random_seed(33)"
   ]
  },
  {
   "cell_type": "markdown",
   "id": "eb87189a-120c-4110-93bb-590ab63c9b8c",
   "metadata": {},
   "source": [
    "<a name=\"2\"></a>\n",
    "## 2 - Exploring the Data\n",
    "\n",
    "we will be using a dataset from Kaggle, which it will be preprocessed. The original data consists of four columns: the sentence number, the word, the part of speech of the word (it won't be used in this), and the tags.  A few tags we might expect to see are: \n",
    "\n",
    "* geo: geographical entity\n",
    "* org: organization\n",
    "* per: person \n",
    "* gpe: geopolitical entity\n",
    "* tim: time indicator\n",
    "* art: artifact\n",
    "* eve: event\n",
    "* nat: natural phenomenon\n",
    "* O: filler word\n"
   ]
  },
  {
   "cell_type": "code",
   "execution_count": 2,
   "id": "bf91751f-99ec-42e1-b45f-95eeff486a8b",
   "metadata": {},
   "outputs": [
    {
     "name": "stdout",
     "output_type": "stream",
     "text": [
      "SENTENCE: Thousands of demonstrators have marched through London to protest the war in Iraq and demand the withdrawal of British troops from that country .\n",
      "\n",
      "SENTENCE LABEL: O O O O O O B-geo O O O O O B-geo O O O O O B-gpe O O O O O\n",
      "\n",
      "ORIGINAL DATA:\n",
      "     Sentence #           Word  POS Tag\n",
      "0  Sentence: 1      Thousands  NNS   O\n",
      "1          NaN             of   IN   O\n",
      "2          NaN  demonstrators  NNS   O\n",
      "3          NaN           have  VBP   O\n",
      "4          NaN        marched  VBN   O\n"
     ]
    }
   ],
   "source": [
    "# display original kaggle data\n",
    "data = pd.read_csv(\"data/ner_dataset.csv\", encoding = \"ISO-8859-1\") \n",
    "train_sents = open('data/small/train/sentences.txt', 'r').readline()\n",
    "train_labels = open('data/small/train/labels.txt', 'r').readline()\n",
    "print('SENTENCE:', train_sents)\n",
    "print('SENTENCE LABEL:', train_labels)\n",
    "print('ORIGINAL DATA:\\n', data.head())\n",
    "del(data, train_sents, train_labels)"
   ]
  },
  {
   "cell_type": "markdown",
   "id": "72fbd5da-772f-4856-b9a3-7b1d6467ac51",
   "metadata": {},
   "source": [
    "<a name=\"2.1\"></a>\n",
    "### 2.1 - Importing the Data\n",
    "\n",
    "In this part, we will import the preprocessed data and explore it."
   ]
  },
  {
   "cell_type": "code",
   "execution_count": 3,
   "id": "2d037cf4-ff74-46f2-ba22-17cf2d7a3b97",
   "metadata": {},
   "outputs": [],
   "source": [
    "def load_data(file_path):\n",
    "    with open(file_path,'r', encoding='utf-8') as file:\n",
    "        data = np.array([line.strip() for line in file.readlines()])\n",
    "    return data"
   ]
  },
  {
   "cell_type": "code",
   "execution_count": 4,
   "id": "27cb4ebe-7224-4541-a6e9-6d498eda389c",
   "metadata": {},
   "outputs": [],
   "source": [
    "train_sentences = load_data('data/large/train/sentences.txt')\n",
    "train_labels = load_data('data/large/train/labels.txt')\n",
    "\n",
    "val_sentences = load_data('data/large/val/sentences.txt')\n",
    "val_labels = load_data('data/large/val/labels.txt')\n",
    "\n",
    "test_sentences = load_data('data/large/test/sentences.txt')\n",
    "test_labels = load_data('data/large/test/labels.txt')"
   ]
  },
  {
   "cell_type": "markdown",
   "id": "deb75117-8163-46db-9da5-83fa132735ef",
   "metadata": {},
   "source": [
    "<a name=\"3\"></a>\n",
    "## 3 -  Encoding\n",
    "\n",
    "<a name=\"3.1\"></a>\n",
    "### 3.1 Encoding the sentences\n",
    "\n",
    "In this section, we will use [`tf.keras.layers.TextVectorization`](https://www.tensorflow.org/api_docs/python/tf/keras/layers/TextVectorization) to transform the sentences into integers, so they can be fed into the model we will build later on. \n",
    "\n",
    "we can use `help(tf.keras.layers.TextVectorization)` to further investigate the object and its parameters. \n",
    "\n",
    "The parameter we will need to pass explicitly is `standardize`. This will tell how the parser splits the sentences. By default, `standardize = 'lower_and_strip_punctuation'`, this means the parser will remove all punctuation and make everything lowercase. Note that this may influence the NER task, since an upper case in the middle of a sentence may indicate an entity. Furthermore, the sentences in the dataset are already split into tokens, and all tokens, including punctuation, are separated by a whitespace. The punctuations are also labeled. That said, we will use `standardize = None` so everything will just be split into single tokens and then mapped to a positive integer.\n",
    "\n",
    "Note that `tf.keras.layers.TextVectorization` will also pad the sentences. In this case, it will always pad using the largest sentence in the set we call it with. we will be calling it for the entire training/validation/test set, but padding won't impact at all the model's output, as we will see later on.\n",
    "\n",
    "After instantiating the object, we will need to adapt it to the **sentences training set**, so it will map every token in the training set to an integer. Also, it will by default create two tokens: one for unknown tokens and another for the padding token. Tensorflow maps in the following way:\n",
    "\n",
    "1. padding token: \"\", integer mapped: 0\n",
    "1. unknown token \"[UNK]\", integer mapped: 1"
   ]
  },
  {
   "cell_type": "markdown",
   "id": "38b0d44a-f961-4edd-979d-9cc24826d4dc",
   "metadata": {},
   "source": [
    "<a name=\"ex01\"></a>\n",
    "### get_sentence_vectorizer\n",
    "\n",
    "**Instructions**: Use the object tf.keras.layers.TextVectorization and the appropriate parameters to build a function that inputs an array of sentences and outputs an adapted sentence vectorizer and its vocabulary list."
   ]
  },
  {
   "cell_type": "code",
   "execution_count": 5,
   "id": "f69d3f82-886f-4796-86d9-5c9b12313764",
   "metadata": {},
   "outputs": [],
   "source": [
    "# FUNCTION: get_sentence_vectorizer\n",
    "def get_sentence_vectorizer(sentences):\n",
    "    tf.keras.utils.set_random_seed(33) ## Do not change this line. \n",
    "    \"\"\"\n",
    "    Create a TextVectorization layer for sentence tokenization and adapt it to the provided sentences.\n",
    "\n",
    "    Parameters:\n",
    "    sentences (list of str): Sentences for vocabulary adaptation.\n",
    "\n",
    "    Returns:\n",
    "    sentence_vectorizer (tf.keras.layers.TextVectorization): TextVectorization layer for sentence tokenization.\n",
    "    vocab (list of str): Extracted vocabulary.\n",
    "    \"\"\"\n",
    "    ###\n",
    "\n",
    "    # Define TextVectorization object with the appropriate standardize parameter\n",
    "    sentence_vectorizer = tf.keras.layers.TextVectorization(standardize=None)\n",
    "    # Adapt the sentence vectorization object to the given sentences\n",
    "    sentence_vectorizer.adapt(sentences)\n",
    "    # Get the vocabulary\n",
    "    vocab = sentence_vectorizer.get_vocabulary()\n",
    "\n",
    "    ### \n",
    "    \n",
    "    return sentence_vectorizer, vocab"
   ]
  },
  {
   "cell_type": "code",
   "execution_count": 6,
   "id": "612a7969-05db-4162-9fde-b7775cedb149",
   "metadata": {},
   "outputs": [
    {
     "name": "stdout",
     "output_type": "stream",
     "text": [
      "Test vocab size: 4650\n",
      "Sentence: I like learning new NLP models !\n",
      "Sentence vectorized: [ 296  314    1   59    1    1 4649]\n"
     ]
    }
   ],
   "source": [
    "test_vectorizer, test_vocab = get_sentence_vectorizer(train_sentences[:1000])\n",
    "print(f\"Test vocab size: {len(test_vocab)}\")\n",
    "\n",
    "sentence = \"I like learning new NLP models !\"\n",
    "sentence_vectorized = test_vectorizer(sentence)\n",
    "print(f\"Sentence: {sentence}\\nSentence vectorized: {sentence_vectorized}\")"
   ]
  },
  {
   "cell_type": "code",
   "execution_count": 7,
   "id": "241c4881-ae7a-46f6-bf57-b4c961fb157d",
   "metadata": {},
   "outputs": [],
   "source": [
    "sentence_vectorizer, vocab = get_sentence_vectorizer(train_sentences)"
   ]
  },
  {
   "cell_type": "markdown",
   "id": "75974b9b-eb39-45c7-80ef-67be640a4e00",
   "metadata": {},
   "source": [
    "<a name=\"3.2\"></a>\n",
    "### 3.2 Encoding the labels\n",
    "\n",
    "In this section we will encode the labels. The process is a bit simpler than encoding the sentences, because there are only a few tags, compared with words in the vocabulary. Note, also, that there will be one extra tag to represent the padded token that some sentences may have included. Padding will not interfere at all in this task, as we will see further on. Run the next cell to print one example of a tag related to one sentence.\n",
    "\n",
    "Because there is no meaning in having an UNK token for labels and the padding token will be another number different from 0 (we will see why soon), TextVectorization is not a good choice.\n",
    "\n",
    "we will need also to pad the labels, because the number of labels must match the number of words. "
   ]
  },
  {
   "cell_type": "code",
   "execution_count": 8,
   "id": "0b1e8342-1821-4c80-beae-9560ed14e621",
   "metadata": {},
   "outputs": [
    {
     "name": "stdout",
     "output_type": "stream",
     "text": [
      "Sentence: Thousands of demonstrators have marched through London to protest the war in Iraq and demand the withdrawal of British troops from that country .\n",
      "Labels: O O O O O O B-geo O O O O O B-geo O O O O O B-gpe O O O O O\n"
     ]
    }
   ],
   "source": [
    "print(f\"Sentence: {train_sentences[0]}\")\n",
    "print(f\"Labels: {train_labels[0]}\")"
   ]
  },
  {
   "cell_type": "code",
   "execution_count": 9,
   "id": "348a8f08-591f-4144-a449-ad2ab4b5ae07",
   "metadata": {},
   "outputs": [],
   "source": [
    "# next function to extract all the different tags in a given set of labels.\n",
    "def get_tags(labels):\n",
    "    tag_set = set() # Define an empty set\n",
    "    for el in labels:\n",
    "        for tag in el.split(\" \"):\n",
    "            tag_set.add(tag)\n",
    "    tag_list = list(tag_set) \n",
    "    tag_list.sort()\n",
    "    return tag_list"
   ]
  },
  {
   "cell_type": "code",
   "execution_count": 10,
   "id": "cea37427-aa57-4180-93b8-db6a1293fe6d",
   "metadata": {},
   "outputs": [
    {
     "name": "stdout",
     "output_type": "stream",
     "text": [
      "['B-art', 'B-eve', 'B-geo', 'B-gpe', 'B-nat', 'B-org', 'B-per', 'B-tim', 'I-art', 'I-eve', 'I-geo', 'I-gpe', 'I-nat', 'I-org', 'I-per', 'I-tim', 'O']\n"
     ]
    }
   ],
   "source": [
    "tags = get_tags(train_labels)\n",
    "print(tags)"
   ]
  },
  {
   "cell_type": "code",
   "execution_count": 11,
   "id": "b3689e1d-dda8-4945-af61-a97c0e915af7",
   "metadata": {},
   "outputs": [],
   "source": [
    "#Now we will need to generate a **tag map**, i.e., a mapping between the tags and **positive** integers.\n",
    "def make_tag_map(tags):\n",
    "    tag_map = {}\n",
    "    for i,tag in enumerate(tags):\n",
    "        tag_map[tag] = i \n",
    "    return tag_map"
   ]
  },
  {
   "cell_type": "markdown",
   "id": "0a37a8a6-8fa9-439e-9449-32004bda657f",
   "metadata": {},
   "source": [
    "The `tag_map` is a dictionary that maps the tags that we could have to numbers. Run the cell below to see the possible classes we will be predicting. The prepositions in the tags mean:\n",
    "* I: Token is inside an entity.\n",
    "* B: Token begins an entity.\n",
    "\n",
    "If we had the sentence \n",
    "\n",
    "**\"Sharon flew to Miami on Friday\"**\n",
    "\n",
    "The tags would look like:\n",
    "\n",
    "```\n",
    "Sharon B-per\n",
    "flew   O\n",
    "to     O\n",
    "Miami  B-geo\n",
    "on     O\n",
    "Friday B-tim\n",
    "```\n",
    "\n",
    "where we would have three tokens beginning with B-, since there are no multi-token entities in the sequence. But if we added Sharon's last name to the sentence:\n",
    "\n",
    "**\"Sharon Floyd flew to Miami on Friday\"**\n",
    "\n",
    "```\n",
    "Sharon B-per\n",
    "Floyd  I-per\n",
    "flew   O\n",
    "to     O\n",
    "Miami  B-geo\n",
    "on     O\n",
    "Friday B-tim\n",
    "```\n",
    "\n",
    "our tags would change to show first \"Sharon\" as B-per, and \"Floyd\" as I-per, where I- indicates an inner token in a multi-token sequence."
   ]
  },
  {
   "cell_type": "code",
   "execution_count": 12,
   "id": "e5bf2867-f6a8-4a63-be16-970d9f71bf30",
   "metadata": {},
   "outputs": [
    {
     "name": "stdout",
     "output_type": "stream",
     "text": [
      "{'B-art': 0, 'B-eve': 1, 'B-geo': 2, 'B-gpe': 3, 'B-nat': 4, 'B-org': 5, 'B-per': 6, 'B-tim': 7, 'I-art': 8, 'I-eve': 9, 'I-geo': 10, 'I-gpe': 11, 'I-nat': 12, 'I-org': 13, 'I-per': 14, 'I-tim': 15, 'O': 16}\n"
     ]
    }
   ],
   "source": [
    "tag_map = make_tag_map(tags)\n",
    "print(tag_map)"
   ]
  },
  {
   "cell_type": "markdown",
   "id": "748b11f3-b29e-417d-aaad-4d090d9e62aa",
   "metadata": {},
   "source": [
    "<a name=\"3.3\"></a>\n",
    "### 3.3 Padding the labels\n",
    "\n",
    "In this section, we will pad the labels. TextVectorization already padded the sentences, so we must ensure that the labels are properly padded as well. This is not a hard task for two main reasons:\n",
    "\n",
    "1. Tensorflow has built-in functions for padding\n",
    "1. Padding will be performed uniformly per dataset (train, validation and test) using the maximum sentence length in each dataset and the size of each sentence is exactly the same as the size of their respective labels.\n",
    "\n",
    "we will pad the vectorized labels with the value -1. we will not use 0 to simplify loss masking and evaluation in further steps. This is because to properly classify one token, a log softmax transformation will be performed and the index with greater value will be the index label. Since index starts at 0, it is better to keep the label 0 as a valid index, even though it is possible to also use 0 as a mask value for labels, but it would require some tweaks in the model architecture or in the loss computation.\n",
    "\n",
    "Tensorflow provides the function [`tf.keras.utils.pad_sequences`](https://www.tensorflow.org/api_docs/python/tf/keras/utils/pad_sequences). The arguments we will need are:\n",
    "\n",
    "- `sequences`: An array with the labels.\n",
    "- `padding`: The position where padding will take place, the standard is `pre`, meaning the sequences will be padded at the beginning. we need to pass the argument `post`.\n",
    "- `value`: Padding value. The default value is  0."
   ]
  },
  {
   "cell_type": "markdown",
   "id": "f8e1ec0d-565a-4151-acd0-e5fe49e8c933",
   "metadata": {},
   "source": [
    "<a name=\"3.4\"></a>\n",
    "### 3.4 Building the label vectorizer\n",
    "\n",
    "Now we're ready to code the label vectorizer.\n",
    "\n",
    "<a name=\"ex02\"></a>\n",
    "### label_vectorizer\n",
    "\n",
    "We will build the label vectorizer, a function that inputs a list of labels and a tag mapping and outputs their respective label ids via a tag map lookup. The tensorflow function `pad_sequences` can be called by `tf.keras.utils.pad_sequences`. we may also type `help(tf.keras.utils.pad_sequences)` to see its documentation."
   ]
  },
  {
   "cell_type": "code",
   "execution_count": 13,
   "id": "c35522e8-28df-41c1-9bc1-9df55625a077",
   "metadata": {},
   "outputs": [],
   "source": [
    "# FUNCTION: label_vectorizer\n",
    "def label_vectorizer(labels, tag_map):\n",
    "    \"\"\"\n",
    "    Convert list of label strings to padded label IDs using a tag mapping.\n",
    "\n",
    "    Parameters:\n",
    "    labels (list of str): List of label strings.\n",
    "    tag_map (dict): Dictionary mapping tags to IDs.\n",
    "    Returns:\n",
    "    label_ids (numpy.ndarray): Padded array of label IDs.\n",
    "    \"\"\"\n",
    "    label_ids = [] # It can't be a numpy array yet, since each sentence has a different size\n",
    "\n",
    "    ###\n",
    "\n",
    "    # Each element in labels is a string of tags so for each of them:\n",
    "    for element in labels:\n",
    "        # Split it into single tokens. we may use .split function for strings. Be aware to split it by a blank space!\n",
    "        tokens = element.split(\" \")\n",
    "\n",
    "        # Use the dictionaty tag_map passed as an argument to the label_vectorizer function\n",
    "        # to make the correspondence between tags and numbers. \n",
    "        element_ids = [tag_map[token] for token in tokens]\n",
    "\n",
    "        #for token in tokens:\n",
    "        #    element_ids.append(None)\n",
    "\n",
    "        # Append the found ids to corresponding to the current element to label_ids list\n",
    "        label_ids.append(element_ids)\n",
    "        \n",
    "    # Pad the elements\n",
    "    label_ids = tf.keras.utils.pad_sequences(label_ids, padding=\"post\", value=-1)\n",
    "    \n",
    "    ###\n",
    "\n",
    "    return label_ids"
   ]
  },
  {
   "cell_type": "code",
   "execution_count": 14,
   "id": "7807ef14-02b0-42a0-8eee-2c51ce171054",
   "metadata": {},
   "outputs": [
    {
     "name": "stdout",
     "output_type": "stream",
     "text": [
      "Sentence: The party is divided over Britain 's participation in the Iraq conflict and the continued deployment of 8,500 British troops in that country .\n",
      "Labels: O O O O O B-gpe O O O O B-geo O O O O O O O B-gpe O O O O O\n",
      "Vectorized labels: [[16 16 16 16 16  3 16 16 16 16  2 16 16 16 16 16 16 16  3 16 16 16 16 16]]\n"
     ]
    }
   ],
   "source": [
    "print(f\"Sentence: {train_sentences[5]}\")\n",
    "print(f\"Labels: {train_labels[5]}\")\n",
    "print(f\"Vectorized labels: {label_vectorizer([train_labels[5]], tag_map)}\")"
   ]
  },
  {
   "cell_type": "markdown",
   "id": "563c285b-5486-4e27-bc13-437b4cddb4b5",
   "metadata": {},
   "source": [
    "## 4 Building the Dataset\n",
    "\n",
    "In this section, we will build the dataset for training, validation and testing. we will be using [`tf.data.Dataset`](https://www.tensorflow.org/api_docs/python/tf/data/Dataset) class, which provides an optimized way to handle data to feed into a tensorflow model. It may be not as straightforward as a pandas dataset, but it avoids keeping all the data in memory, thus it makes the training faster.\n",
    "\n",
    "we will be using the `tf.data.Dataset.from_tensor_slices` function that converts any iterable into a Tensorflow dataset. we can pass a tuple of `(sentences,labels)` and Tensorflow will understand that each sentence is mapped to its respective label, therefore it is expected that if a tuple of arrays is passed, both arrays have the same length."
   ]
  },
  {
   "cell_type": "code",
   "execution_count": 15,
   "id": "ec4767f2-a357-49b7-ac4f-dd07b0b13025",
   "metadata": {},
   "outputs": [],
   "source": [
    "def generate_dataset(sentences, labels, sentence_vectorizer, tag_map):\n",
    "    sentences_ids = sentence_vectorizer(sentences)\n",
    "    labels_ids = label_vectorizer(labels, tag_map = tag_map)\n",
    "    dataset = tf.data.Dataset.from_tensor_slices((sentences_ids, labels_ids))\n",
    "    return dataset"
   ]
  },
  {
   "cell_type": "markdown",
   "id": "b689dd41-bbf0-4ddd-8c90-695756386e2a",
   "metadata": {},
   "source": [
    "The next cell will use the function defined above to generate a Tensorflow Dataset for each of the train, validation and test datasets."
   ]
  },
  {
   "cell_type": "code",
   "execution_count": 16,
   "id": "4edefb3e-0a24-4b39-affe-2a176ceb0366",
   "metadata": {},
   "outputs": [],
   "source": [
    "train_dataset = generate_dataset(train_sentences,train_labels, sentence_vectorizer, tag_map)\n",
    "val_dataset = generate_dataset(val_sentences,val_labels,  sentence_vectorizer, tag_map)\n",
    "test_dataset = generate_dataset(test_sentences, test_labels,  sentence_vectorizer, tag_map)"
   ]
  },
  {
   "cell_type": "code",
   "execution_count": 17,
   "id": "5bee81b9-5ff2-41b6-851d-ee4de21f4772",
   "metadata": {},
   "outputs": [
    {
     "name": "stdout",
     "output_type": "stream",
     "text": [
      "The number of outputs is 17\n",
      "Num of vocabulary words in the training set: 29847\n",
      "The training size is 33570\n",
      "The validation size is 7194\n",
      "An example of the first sentence is\n",
      "\t [1046    6 1121   18 1832  232  543    7  528    2  158    5   60    9\n",
      "  648    2  922    6  192   87   22   16   54    3    0    0    0    0\n",
      "    0    0    0    0    0    0    0    0    0    0    0    0    0    0\n",
      "    0    0    0    0    0    0    0    0    0    0    0    0    0    0\n",
      "    0    0    0    0    0    0    0    0    0    0    0    0    0    0\n",
      "    0    0    0    0    0    0    0    0    0    0    0    0    0    0\n",
      "    0    0    0    0    0    0    0    0    0    0    0    0    0    0\n",
      "    0    0    0    0    0    0]\n",
      "An example of its corresponding label is\n",
      "\t [16 16 16 16 16 16  2 16 16 16 16 16  2 16 16 16 16 16  3 16 16 16 16 16\n",
      " -1 -1 -1 -1 -1 -1 -1 -1 -1 -1 -1 -1 -1 -1 -1 -1 -1 -1 -1 -1 -1 -1 -1 -1\n",
      " -1 -1 -1 -1 -1 -1 -1 -1 -1 -1 -1 -1 -1 -1 -1 -1 -1 -1 -1 -1 -1 -1 -1 -1\n",
      " -1 -1 -1 -1 -1 -1 -1 -1 -1 -1 -1 -1 -1 -1 -1 -1 -1 -1 -1 -1 -1 -1 -1 -1\n",
      " -1 -1 -1 -1 -1 -1 -1 -1]\n"
     ]
    }
   ],
   "source": [
    "# Exploring information about the training data\n",
    "print(f'The number of outputs is {len(tags)}')\n",
    "# The number of vocabulary tokens (including <PAD>)\n",
    "g_vocab_size = len(vocab)\n",
    "print(f\"Num of vocabulary words in the training set: {g_vocab_size}\")\n",
    "print('The training size is', len(train_dataset))\n",
    "print('The validation size is', len(val_dataset))\n",
    "print('An example of the first sentence is\\n\\t', next(iter(train_dataset))[0].numpy())\n",
    "print('An example of its corresponding label is\\n\\t', next(iter(train_dataset))[1].numpy())"
   ]
  },
  {
   "cell_type": "markdown",
   "id": "3f9c43c3-316a-4cbb-89f6-f09d7bd75dcf",
   "metadata": {},
   "source": [
    "<a name=\"3.5\"></a>\n",
    "### 3.5 - Considerations about RNNs and LSTMs inputs\n",
    "\n",
    "Tensorflow implementation of RNNs (in particular LSTMs) allow we to pass a variable size of input sentences, however this cannot be done **in the same batch**. we must assure that, for each batch, the shapes for our input tensors are the same. \n",
    "\n",
    "A second point here is that, for this purpose, the size of the padding should not influence the final result. Therefore, it does not matter if we perform the padding for each batch or in the entire dataset."
   ]
  },
  {
   "cell_type": "markdown",
   "id": "c3723c12-e2d5-4e84-9ebf-cfa35b9f27e8",
   "metadata": {},
   "source": [
    "<a name=\"4\"></a>\n",
    "## 4 - Building the Model\n",
    "\n",
    "\n",
    "<a name=\"4.1\"></a>\n",
    "### 4.1 Model structure\n",
    "\n",
    "we will now implement the model that will be able to determine the tags of sentences like the following:\n",
    "<table>\n",
    "    <tr>\n",
    "        <td>\n",
    "<img src = 'images/ner1.png' width=\"width\" height=\"height\" style=\"width:500px;height:150px;\"/>\n",
    "        </td>\n",
    "    </tr>\n",
    "</table>\n",
    "\n",
    "The model architecture will be as follows: \n",
    "\n",
    "<img src = 'images/ner2.png' width=\"width\" height=\"height\" style=\"width:600px;height:250px;\"/>\n",
    "\n",
    "\n",
    "Concretely, our inputs will be sentences represented as tensors that are fed to a model with:\n",
    "\n",
    "* An Embedding layer,\n",
    "* A LSTM layer\n",
    "* A Dense layer\n",
    "* A log softmax layer.\n",
    "\n",
    "we may choose between outputting only the very last LSTM output for each sentence, but we may also request the LSTM to output every value for a sentence - this is what we want. we will need every output, because the idea is to label every token in the sentence and not to predict the next token or even make an overall classification task for that sentence. \n",
    "\n",
    "This implies that when we input a single sentence, such as `[452, 3400, 123, 0, 0, 0]`, the expected output should be an array for each word ID, with a length equal to the number of tags. This output is obtained by applying the LogSoftfmax function for each of the `len(tags)` values. So, in the case of the example array with a shape of `(6,)`, the output should be an array with a shape of `(6, len(tags))`.\n",
    "\n",
    "In our case, we've seen that each sentence in the training set is 104 values long, so in a batch of, say, 64 tensors, the model shoud input a tensor of shape `(64,104)` and output another tensor with shape `(64,104,17)`. \n",
    "\n",
    "Good news! We won't implement the LSTM cell drawn above. we will be in charge of the overall architecture of the model. \n",
    "\n",
    "<a name=\"ex03\"></a>\n",
    "### NER model\n",
    "\n",
    "Lets implement the NER model. All the necessary layers are objects from the `tensorflow.keras.layers` library, but they are already loaded in memory, so we do not have to worry about function calls.\n",
    "\n",
    "Please utilize help function e.g. `help(tf.keras.layers.Dense)` for more information on a layer\n",
    "   \n",
    "- [tf.keras.Sequential](https://www.tensorflow.org/api_docs/python/tf/keras/Sequential): Combinator that applies layers serially (by function composition) - **this is not properly a layer (it is under `tensorflow.keras` only and not under `tensorflow.keras.layers`)**. It is in fact a Tensorflow [model](https://www.tensorflow.org/api_docs/python/tf/keras/Model) object.\n",
    "    - we can add the layers to a `Sequential` layer by calling the method `.add(layer)`.  \n",
    "    - we may skip the input shape and pass it in the first layer we instantiate, if necessary (RNNs usually don't need to fix an input length).\n",
    "\n",
    "\n",
    "-  [tf.keras.layers.Embedding](https://www.tensorflow.org/api_docs/python/tf/keras/layers/Embedding): Initializes the embedding layer. An embedding layer in tensorflow will input only **positive integers**.\n",
    "    - `Embedding(input_dim, output_dim, mask_zero = False)`.\n",
    "    - `input_dim` is the expected range of integers for each tensor in the batch. Note that the input_dim is not related to array size, but to the possible range of integers expected in the input. Usually this is the vocabulary size, but it may differ by 1, depending on further parameters.  See below. \n",
    "    - `output_dim` is the number of elements in the word embedding (some choices for a word embedding size range from 150 to 300, for example). Each word processed will be assigned an array of size `output_dim`. So if one array of shape (3,) is passed (example of such an array `[100,203,204]`), then the Embedding layer should have output shape (3,output_dim).\n",
    "    - `mask_zero` is a boolean telling whether 0 is a mask value or not. If `mask_zero = True`, then some considerations must be done: \n",
    "                1. The value 0 should be reserved as the mask value, as it will be ignored in training.\n",
    "                2. we need to add 1 in `input_dim`, since now Tensorflow will consider that one extra 0 value may show up in each sentence.\n",
    "\n",
    "-  [tf.keras.layers.LSTM](https://www.tensorflow.org/api_docs/python/tf/keras/layers/LSTM): An LSTM layer. \n",
    "    - `LSTM(units, return_sequences)` Builds an LSTM layer with hidden state and cell sizes equal to `units`. The arguments we will need: \n",
    "            1. `units`: It is the number of `LSTM` cells we will create to pass every input to. In this case, set the `units` as the Embedding `output_dim`. This is just a choice, in fact there is no static rule preventing one from choosing any amount of LSTM units. \n",
    "            2. `return_sequences`: A boolean, telling whether we want to return every output value from the LSTM cells. If `return_sequences = False`, then the LSTM output shape will be `(batch_size, units)`. Otherwise, it is `(batch_size, sentence_length, units)`, since there will be an output for each word in the sentence.\n",
    "\n",
    "\n",
    "-  [tf.keras.layers.Dense](https://www.tensorflow.org/api_docs/python/tf/keras/layers/Dense): A dense layer.\n",
    "    - `Dense(units, activation)`: The parameters for this layer are: \n",
    "            1. `units`: It is the number of units chosen for this dense layer, i.e., it is the dimensionality of the output space. In this case, each value passed through the Dense layer must be mapped into a vector with length `num_of_classes` (in this case, `len(tags)`). \n",
    "            2. `activation`: This is the activation that will be performed after computing the values in the Dense layer. Since the Dense layer comes before the LogSoftmax step, we can pass the LogSoftmax function as activation function here. **we can find the implementation for LogSoftmax under `tf.nn`. So we may call it as `tf.nn.log_softmax`. See its documentation [here](https://www.tensorflow.org/api_docs/python/tf/nn/log_softmax).\n",
    "    "
   ]
  },
  {
   "cell_type": "code",
   "execution_count": 18,
   "id": "49f37590-8432-4b01-93bc-f60e22250fd9",
   "metadata": {},
   "outputs": [],
   "source": [
    "# FUNCTION: NER\n",
    "def NER(len_tags, vocab_size, embedding_dim = 50):\n",
    "    \"\"\"\n",
    "    Create a Named Entity Recognition (NER) model.\n",
    "\n",
    "    Parameters:\n",
    "    len_tags (int): Number of NER tags (output classes).\n",
    "    vocab_size (int): Vocabulary size.\n",
    "    embedding_dim (int, optional): Dimension of embedding and LSTM layers (default is 50).\n",
    "\n",
    "    Returns:\n",
    "    model (Sequential): NER model.\n",
    "    \"\"\"\n",
    "\n",
    "     ###\n",
    "\n",
    "    model = tf.keras.Sequential(name = 'sequential') \n",
    "    # Add the tf.keras.layers.Embedding layer. Do not forget to mask out the zeros!\n",
    "    model.add(tf.keras.layers.Embedding(vocab_size+1, embedding_dim, mask_zero=True))\n",
    "    # Add the LSTM layer. Make sure we are passing the right dimension (defined in the docstring above) \n",
    "    # and returning every output for the tf.keras.layers.LSTM layer and not the very last one.\n",
    "    model.add(tf.keras.layers.LSTM(embedding_dim, return_sequences=True))\n",
    "    # Add the final tf.keras.layers.Dense with the appropriate activation function. Remember we must pass the activation function itself ant not its call!\n",
    "    # we must use tf.nn.log_softmax instead of tf.nn.log_softmax().\n",
    "    model.add(tf.keras.layers.Dense(len_tags, activation=tf.nn.log_softmax))\n",
    "    \n",
    "    ### \n",
    "\n",
    "    return model"
   ]
  },
  {
   "cell_type": "markdown",
   "id": "78da00b1-02ea-4e69-8458-a2e0b10c1cc1",
   "metadata": {},
   "source": [
    "<a name=\"4.2\"></a>\n",
    "### 4.2 Masked loss and metrics\n",
    "\n",
    "Before training the model, we need to create our own function to compute the accuracy. Tensorflow has built-in accuracy metrics but we cannot pass values to be ignored. This will impact the calculations, since we must remove the padded values. Before diving into this, let's just make some points clear.\n",
    "\n",
    "Usually, the metric that inputs true labels and predicted labels and outputs how many times the predicted and true labels match is called `accuracy`. In some cases, however, there is one more step before getting the predicted labels. This may happen if, instead of passing the predicted labels, a vector of probabilities is passed. In such case, there is a need to perform an `argmax` for each prediction to find the appropriate predicted label. Such situations happen very often, therefore Tensorflow has a set of functions, with prefix `Sparse`, that performs this operation in the backend. Unfortunately, it does not provide values to ignore in the accuracy case. This is what we will work on now. \n",
    "\n",
    "Note that the model's prediction has 3 axes: \n",
    "- the number of examples (batch size)\n",
    "- the number of words in each example (padded to be as long as the longest sentence in the batch)\n",
    "- the number of possible targets (the 17 named entity tags)."
   ]
  },
  {
   "cell_type": "markdown",
   "id": "b530c26c-964d-4329-89fe-07682a4380f7",
   "metadata": {},
   "source": [
    "Another important function is the loss function. In this case, we will use the Cross Entropy loss, but we need a multiclass implementation of it, also we may look for its `Sparse` version. Tensorflow has a SparseCategoricalCrossentropy loss function, which it is already imported by the name SparseCategoricalCrossEntropy.\n",
    "\n",
    "[SparseCategoricalCrossentropy](https://www.tensorflow.org/api_docs/python/tf/keras/losses/SparseCategoricalCrossentropy): The Sparse Categorical Crossentropy Loss Function. \n",
    "\n",
    "The arguments we will need:\n",
    "\n",
    "1. `from_logits`: This indicates if the values are raw values or normalized values (probabilities). Since the last layer of the model finishes with a LogSoftMax call, the results are **not** normalized - they do not lie between 0 and 1. \n",
    "2. `ignore_class`: This indicates which class should be ignored when computing the crossentropy. Remember that the class related to padding value is set to be 0.\n",
    "\n",
    "**Note**: we do not need to worry if the outputs are normalized or not in the accuracy case. Can we guess why? :)"
   ]
  },
  {
   "cell_type": "markdown",
   "id": "21aad326-bdf9-4372-84da-8732d1db0d76",
   "metadata": {},
   "source": [
    "<a name=\"ex04\"></a>\n",
    "### masked_loss\n",
    "\n",
    "We will use a `tf.keras.losses.SparseCategoricalCrossentropy` object to create a loss function that ignores the padded value related to the label. **Remember that for padding we are using the value** $-1$ **and not $0$, as opposed to the text padding!**"
   ]
  },
  {
   "cell_type": "code",
   "execution_count": 19,
   "id": "13e86d1d-e2de-4548-b929-8f8f26a55a94",
   "metadata": {},
   "outputs": [],
   "source": [
    "# FUNCTION: masked_loss\n",
    "def masked_loss(y_true, y_pred):\n",
    "    \"\"\"\n",
    "    Calculate the masked sparse categorical cross-entropy loss.\n",
    "\n",
    "    Parameters:\n",
    "    y_true (tensor): True labels.\n",
    "    y_pred (tensor): Predicted logits.\n",
    "    \n",
    "    Returns:\n",
    "    loss (tensor): Calculated loss.\n",
    "    \"\"\"\n",
    "    \n",
    "    ###\n",
    "    \n",
    "    # Calculate the loss for each item in the batch. Remember to pass the right arguments, as discussed above!\n",
    "    loss_fn = tf.keras.losses.SparseCategoricalCrossentropy(from_logits=True, ignore_class=-1)\n",
    "    # Use the previous defined function to compute the loss\n",
    "    loss = loss_fn(y_true,y_pred)\n",
    "    \n",
    "    ###\n",
    "\n",
    "    return  loss "
   ]
  },
  {
   "cell_type": "code",
   "execution_count": 20,
   "id": "f67df75d-acc7-4afd-ac93-1be4c21f51ca",
   "metadata": {},
   "outputs": [
    {
     "name": "stdout",
     "output_type": "stream",
     "text": [
      "tf.Tensor(1.0508584, shape=(), dtype=float32)\n"
     ]
    }
   ],
   "source": [
    "true_labels = [0,1,2,0]\n",
    "predicted_logits = [[0.1,0.6,0.3] , [0.2,0.7,0.1], [0.1, 0.5,0.4], [0.4,0.4,0.2]]\n",
    "print(masked_loss(true_labels, predicted_logits))"
   ]
  },
  {
   "cell_type": "markdown",
   "id": "4475302a-e8a9-49af-b95d-5eae1c0a8cd0",
   "metadata": {},
   "source": [
    "<a name=\"ex05\"></a>\n",
    "### masked_accuracy\n",
    "\n",
    "We will make a masked version of the accuracy function. we will need to perform an argmax to get the predicted label for each element in the batch. Remember to provide the appropriate axis in the argmax function. Furthermore, remember to use only tensorflow operations. Even though numpy has every function we will need, to pass it as a loss function and/or metric function, we must use tensorflow operations, due to internal optimizations that Tensorflow performs for reliable fitting. The following tensorflow functions are already loaded in memory, so we can directly call them.\n",
    "\n",
    "1. tf.equal, equivalent to np.equal\n",
    "2. tf.cast, equivalent to np.astype\n",
    "3. tf.reduce_sum, equiavalent to np.sum\n",
    "4. tf.math.argmax, equivalent to np.argmax\n",
    "5. we may need tf.float32 while casting"
   ]
  },
  {
   "cell_type": "code",
   "execution_count": 21,
   "id": "1c9331df-dccd-49d3-aa1e-bad87a896e6a",
   "metadata": {},
   "outputs": [],
   "source": [
    "# FUNCTION: masked_accuracy\n",
    "def masked_accuracy(y_true, y_pred):\n",
    "    \"\"\"\n",
    "    Calculate masked accuracy for predicted labels.\n",
    "\n",
    "    Parameters:\n",
    "    y_true (tensor): True labels.\n",
    "    y_pred (tensor): Predicted logits.\n",
    "\n",
    "    Returns:\n",
    "    accuracy (tensor): Masked accuracy.\n",
    "\n",
    "    \"\"\"\n",
    "    \n",
    "    ###\n",
    "    \n",
    "    # Calculate the loss for each item in the batch.\n",
    "    # we must always cast the tensors to the same type in order to use them in training. Since we will make divisions, it is safe to use tf.float32 data type.\n",
    "    y_true = tf.cast(y_true, tf.float32) \n",
    "    # Create the mask, i.e., the values that will be ignored\n",
    "    mask = tf.not_equal(y_true, -1)\n",
    "    mask = tf.cast(mask, tf.float32) \n",
    "    # Perform argmax to get the predicted values\n",
    "    y_pred_class = tf.math.argmax(y_pred, axis=-1) \n",
    "    y_pred_class = tf.cast(y_pred_class, tf.float32) \n",
    "    # Compare the true values with the predicted ones\n",
    "    matches_true_pred  = tf.equal(y_true, y_pred_class)\n",
    "    matches_true_pred = tf.cast(matches_true_pred , tf.float32) \n",
    "    # Multiply the acc tensor with the masks\n",
    "    matches_true_pred *= mask\n",
    "    # Compute masked accuracy (quotient between the total matches and the total valid values, i.e., the amount of non-masked values)\n",
    "    masked_acc = tf.reduce_sum(matches_true_pred)/tf.reduce_sum(mask)\n",
    "    \n",
    "    ###\n",
    "\n",
    "    return masked_acc"
   ]
  },
  {
   "cell_type": "code",
   "execution_count": 22,
   "id": "b7ca6a06-bfbd-4f2d-81f9-17dbdda2a919",
   "metadata": {},
   "outputs": [
    {
     "name": "stdout",
     "output_type": "stream",
     "text": [
      "tf.Tensor(0.5, shape=(), dtype=float32)\n"
     ]
    }
   ],
   "source": [
    "true_labels = [0,1,2,0]\n",
    "predicted_logits = [[0.1,0.6,0.3] , [0.2,0.7,0.1], [0.1, 0.5,0.4], [0.4,0.4,0.2]]\n",
    "print(masked_accuracy(true_labels, predicted_logits))"
   ]
  },
  {
   "cell_type": "code",
   "execution_count": 23,
   "id": "be2621f7-48da-4947-80da-842259871886",
   "metadata": {},
   "outputs": [
    {
     "name": "stdout",
     "output_type": "stream",
     "text": [
      "Model: \"sequential\"\n",
      "_________________________________________________________________\n",
      " Layer (type)                Output Shape              Param #   \n",
      "=================================================================\n",
      " embedding (Embedding)       (None, None, 50)          1492400   \n",
      "                                                                 \n",
      " lstm (LSTM)                 (None, None, 50)          20200     \n",
      "                                                                 \n",
      " dense (Dense)               (None, None, 17)          867       \n",
      "                                                                 \n",
      "=================================================================\n",
      "Total params: 1,513,467\n",
      "Trainable params: 1,513,467\n",
      "Non-trainable params: 0\n",
      "_________________________________________________________________\n"
     ]
    }
   ],
   "source": [
    "#Now we will create the model and get a summary of its parameters and layers.\n",
    "model = NER(len(tag_map), len(vocab))\n",
    "model.summary()"
   ]
  },
  {
   "cell_type": "markdown",
   "id": "d5f22163-c48b-4e34-bba6-c1fe601299fa",
   "metadata": {},
   "source": [
    "<a name=\"4.3\"></a>\n",
    "### 4.3 A note on padding\n",
    "\n",
    "we will check now how padding does not affect the model's output. Of course the output dimension will change. If ten zeros are added at the end of the tensor, then the resulting output dimension will have 10 more elements (more specifically, 10 more arrays of length 17 each). However, those are removed from any calculation further on, so it won't impact at all the model's performance and training. we will be using the function tf.expand_dims."
   ]
  },
  {
   "cell_type": "code",
   "execution_count": 24,
   "id": "85f08ed0-2e46-4256-af69-2914d767afa3",
   "metadata": {},
   "outputs": [],
   "source": [
    "x = tf.expand_dims(np.array([545, 467, 896]), axis = 0) # Expanding dims is needed to pass it to the model, \n",
    "                                                        # since it expects batches and not single prediction arrays\n",
    "    \n",
    "x_padded = tf.expand_dims(np.array([545, 467, 896, 0, 0, 0]), axis = 0)"
   ]
  },
  {
   "cell_type": "markdown",
   "id": "94c977f1-c404-40ce-99de-c32e03be73e9",
   "metadata": {},
   "source": [
    "guess the final output prediction shape for each array defined above?"
   ]
  },
  {
   "cell_type": "code",
   "execution_count": 25,
   "id": "caabb9ce-cf8c-42d5-bce1-cfcab9fa9e11",
   "metadata": {},
   "outputs": [
    {
     "name": "stdout",
     "output_type": "stream",
     "text": [
      "x shape: (1, 3, 17)\n",
      "x_padded shape: (1, 6, 17)\n"
     ]
    }
   ],
   "source": [
    "pred_x = model(x)\n",
    "pred_x_padded = model(x_padded)\n",
    "print(f'x shape: {pred_x.shape}\\nx_padded shape: {pred_x_padded.shape}')"
   ]
  },
  {
   "cell_type": "markdown",
   "id": "c0f30fd2-d30b-4a5b-8ef0-f4542242bdf5",
   "metadata": {},
   "source": [
    "If the last three elements of `pred_x_padded` are removed, both `pred_x` and `pred_x_padded[:3]` must have the same elements."
   ]
  },
  {
   "cell_type": "code",
   "execution_count": 26,
   "id": "b4d2719d-74cb-44a5-bf06-976f38225d89",
   "metadata": {},
   "outputs": [
    {
     "data": {
      "text/plain": [
       "True"
      ]
     },
     "execution_count": 26,
     "metadata": {},
     "output_type": "execute_result"
    }
   ],
   "source": [
    "np.allclose(pred_x, pred_x[:3])"
   ]
  },
  {
   "cell_type": "markdown",
   "id": "3af55934-2e50-490b-88c4-dd2a4f00a3dd",
   "metadata": {},
   "source": [
    "Great! Now one last check: let's see that both `pred_x` and `pred_x_padded` return the same loss and accuracy values. For that, we will need a `y_true` and `y_true_padded` arrays."
   ]
  },
  {
   "cell_type": "code",
   "execution_count": 27,
   "id": "415f2022-37ef-4173-a137-4ebf6bba927e",
   "metadata": {},
   "outputs": [
    {
     "name": "stdout",
     "output_type": "stream",
     "text": [
      "masked_loss is the same: True\n",
      "masked_accuracy is the same: True\n"
     ]
    }
   ],
   "source": [
    "y_true = tf.expand_dims([16, 6, 12], axis = 0)\n",
    "y_true_padded = tf.expand_dims([16,6,12,-1,-1,-1], axis = 0) # Remember we mapped the padded values to -1 in the labels\n",
    "print(f\"masked_loss is the same: {np.allclose(masked_loss(y_true,pred_x), masked_loss(y_true_padded,pred_x_padded))}\")\n",
    "print(f\"masked_accuracy is the same: {np.allclose(masked_accuracy(y_true,pred_x), masked_accuracy(y_true_padded,pred_x_padded))}\")"
   ]
  },
  {
   "cell_type": "markdown",
   "id": "3ebe0017-2000-43f6-bcc7-8fb3191fb2e9",
   "metadata": {},
   "source": [
    "#### After this quick sanity check, we will now compile the model."
   ]
  },
  {
   "cell_type": "markdown",
   "id": "61ecb42c-3b8f-419a-a01e-98cc941bf3e4",
   "metadata": {},
   "source": [
    "we will compile the model as follows:\n",
    "\n",
    "1. Use the Adam optimizer to compute the stochastic gradient descent, with learning rate 0.01\n",
    "2. Use the loss function `masked_loss` as loss function,\n",
    "3. As evaluation metrics, we will use both masked_loss and masked_accuracy"
   ]
  },
  {
   "cell_type": "code",
   "execution_count": 28,
   "id": "9499b3eb-1c89-443d-92db-2b183d608498",
   "metadata": {},
   "outputs": [],
   "source": [
    "model.compile(optimizer=tf.keras.optimizers.Adam(0.01), \n",
    "              loss = masked_loss,\n",
    "               metrics = [masked_accuracy])"
   ]
  },
  {
   "cell_type": "markdown",
   "id": "de23ba32-84e3-4099-8b47-504c75d89491",
   "metadata": {},
   "source": [
    "<a name=\"4.4\"></a>\n",
    "### 4.4 - Training the Model\n",
    "\n",
    "we will now train the model. \n",
    "\n",
    "**Instructions:** \n",
    "\n",
    "- we will train it with `shuffle = True`, over 2 epochs and passing the validation dataset as `validation_data`.\n",
    "- we will run into an error if we just pass the datasets as they are right now, because they are not prepared in batches. we must use the method `.batch` that returns a dataset already divided in batches\n",
    "\n",
    "\n",
    "**NOTE**: The fitting takes about 1 minute to run. Only the first epoch is slow, the following ones are much faster."
   ]
  },
  {
   "cell_type": "code",
   "execution_count": 29,
   "id": "3ab94994-3db5-4b02-9248-b281a4d74531",
   "metadata": {},
   "outputs": [
    {
     "name": "stdout",
     "output_type": "stream",
     "text": [
      "Epoch 1/10\n",
      "263/263 [==============================] - 10s 23ms/step - loss: 0.0760 - masked_accuracy: 0.9121 - val_loss: 0.0454 - val_masked_accuracy: 0.9558\n",
      "Epoch 2/10\n",
      "263/263 [==============================] - 4s 17ms/step - loss: 0.0252 - masked_accuracy: 0.9634 - val_loss: 0.0414 - val_masked_accuracy: 0.9580\n",
      "Epoch 3/10\n",
      "263/263 [==============================] - 4s 17ms/step - loss: 0.0198 - masked_accuracy: 0.9699 - val_loss: 0.0413 - val_masked_accuracy: 0.9587\n",
      "Epoch 4/10\n",
      "263/263 [==============================] - 4s 17ms/step - loss: 0.0172 - masked_accuracy: 0.9731 - val_loss: 0.0430 - val_masked_accuracy: 0.9581\n",
      "Epoch 5/10\n",
      "263/263 [==============================] - 4s 17ms/step - loss: 0.0156 - masked_accuracy: 0.9754 - val_loss: 0.0459 - val_masked_accuracy: 0.9555\n",
      "Epoch 6/10\n",
      "263/263 [==============================] - 4s 17ms/step - loss: 0.0145 - masked_accuracy: 0.9771 - val_loss: 0.0466 - val_masked_accuracy: 0.9577\n",
      "Epoch 7/10\n",
      "263/263 [==============================] - 4s 17ms/step - loss: 0.0135 - masked_accuracy: 0.9783 - val_loss: 0.0487 - val_masked_accuracy: 0.9569\n",
      "Epoch 8/10\n",
      "263/263 [==============================] - 4s 17ms/step - loss: 0.0124 - masked_accuracy: 0.9801 - val_loss: 0.0519 - val_masked_accuracy: 0.9577\n",
      "Epoch 9/10\n",
      "263/263 [==============================] - 4s 17ms/step - loss: 0.0115 - masked_accuracy: 0.9816 - val_loss: 0.0562 - val_masked_accuracy: 0.9567\n",
      "Epoch 10/10\n",
      "263/263 [==============================] - 4s 17ms/step - loss: 0.0109 - masked_accuracy: 0.9824 - val_loss: 0.0566 - val_masked_accuracy: 0.9569\n"
     ]
    },
    {
     "data": {
      "text/plain": [
       "<keras.callbacks.History at 0x26a6d1e4790>"
      ]
     },
     "execution_count": 29,
     "metadata": {},
     "output_type": "execute_result"
    }
   ],
   "source": [
    "tf.keras.utils.set_random_seed(33) ## Setting again a random seed to ensure reproducibility\n",
    "\n",
    "BATCH_SIZE = 128\n",
    "\n",
    "model.fit(train_dataset.batch(BATCH_SIZE),\n",
    "          validation_data = val_dataset.batch(BATCH_SIZE),\n",
    "          shuffle=True,\n",
    "          epochs = 10)"
   ]
  },
  {
   "cell_type": "markdown",
   "id": "a6679434-0773-43df-a1c4-7ed0e509670a",
   "metadata": {},
   "source": [
    "<a name=\"5\"></a>\n",
    "## 5 - Compute Accuracy\n",
    "\n",
    "we will now evaluate on the test set. Previously, we have seen the accuracy on the training set and the validation (noted as eval) set. we will now evaluate on our test set. we already have a function to compute the accuracy."
   ]
  },
  {
   "cell_type": "code",
   "execution_count": 30,
   "id": "7f40428d-7f5b-45dd-9780-6ac817c4f49a",
   "metadata": {},
   "outputs": [
    {
     "name": "stdout",
     "output_type": "stream",
     "text": [
      "225/225 [==============================] - 2s 5ms/step\n"
     ]
    }
   ],
   "source": [
    "# Convert the sentences into ids\n",
    "test_sentences_id = sentence_vectorizer(test_sentences)\n",
    "# Convert the labels into token ids\n",
    "test_labels_id = label_vectorizer(test_labels,tag_map)\n",
    "# Rename to prettify next function call\n",
    "y_true = test_labels_id \n",
    "y_pred = model.predict(test_sentences_id)"
   ]
  },
  {
   "cell_type": "code",
   "execution_count": 31,
   "id": "d7e7bfa5-08f6-4ebe-9a44-f0e539de2e18",
   "metadata": {},
   "outputs": [],
   "source": [
    "#The next cell computes the accuracy for the test set. "
   ]
  },
  {
   "cell_type": "code",
   "execution_count": 32,
   "id": "5d254f1a-8e6e-41b2-ace5-21df777e5787",
   "metadata": {},
   "outputs": [
    {
     "name": "stdout",
     "output_type": "stream",
     "text": [
      "The model's accuracy in test set is: 0.9564\n"
     ]
    }
   ],
   "source": [
    "print(f\"The model's accuracy in test set is: {masked_accuracy(y_true,y_pred).numpy():.4f}\")"
   ]
  },
  {
   "cell_type": "markdown",
   "id": "698d0b6d-fb32-424d-b3e8-5dfc7bf02061",
   "metadata": {},
   "source": [
    "<a name=\"6\"></a>\n",
    "## 6 - Testing with our Own Sentence\n",
    "\n",
    "In this section we will make a predictor function to predict the NER labels for any sentence. \n",
    "\n",
    "<a name=\"ex06\"></a>\n",
    "### Predict\n",
    "\n",
    "We will make a function `predict` that inputs one arbitrary sentence, a trained NER model, the sentence_vectorizer and the tag mapping and return a list of predicted NER labels. Remember that the sentences in pre-processing were already separated by token, so we do not need to worry about separating tokens such as commas or dots. we will just pass one sentence in the desired format, e.g., sentence = \"I like apples , oranges and grapes .\"\n",
    "\n",
    "To get a single prediction from a tensorflow model, we will need to make some changes in the input array, since tensorflow expects a batch of sentences. we can use the function `tf.expand_dims` to do this. "
   ]
  },
  {
   "cell_type": "code",
   "execution_count": 33,
   "id": "301956eb-1612-495e-bca0-8b958f329bb1",
   "metadata": {},
   "outputs": [],
   "source": [
    "# FUNCTION: predict\n",
    "def predict(sentence, model, sentence_vectorizer, tag_map):\n",
    "    \"\"\"\n",
    "    Predict NER labels for a given sentence using a trained model.\n",
    "\n",
    "    Parameters:\n",
    "    sentence (str): Input sentence.\n",
    "    model (tf.keras.Model): Trained NER model.\n",
    "    sentence_vectorizer (tf.keras.layers.TextVectorization): Sentence vectorization layer.\n",
    "    tag_map (dict): Dictionary mapping tag IDs to labels.\n",
    "\n",
    "    Returns:\n",
    "    predictions (list): Predicted NER labels for the sentence.\n",
    "\n",
    "    \"\"\"\n",
    "\n",
    "    ###\n",
    "\n",
    "    # Convert the sentence into ids\n",
    "    sentence_vectorized = sentence_vectorizer(sentence)\n",
    "    # Expand its dimension to make it appropriate to pass to the model\n",
    "    sentence_vectorized = tf.expand_dims(sentence_vectorized, axis=0)\n",
    "    # Get the model output\n",
    "    output = model(sentence_vectorized)\n",
    "    # Get the predicted labels for each token, using argmax function and specifying the correct axis to perform the argmax\n",
    "    outputs = np.argmax(output, axis = -1)\n",
    "    # Next line is just to adjust outputs dimension. Since this function expects only one input to get a prediction, outputs will be something like [[1,2,3]]\n",
    "    # so to avoid heavy notation below, let's transform it into [1,2,3]\n",
    "    outputs = outputs[0] \n",
    "    # Get a list of all keys, remember that the tag_map was built in a way that each label id matches its index in a list\n",
    "    labels = list(tag_map.keys()) \n",
    "    pred = [] \n",
    "    # Iterating over every predicted token in outputs list\n",
    "    for tag_idx in outputs:\n",
    "        pred_label = labels[int(tag_idx)]\n",
    "        pred.append(pred_label)\n",
    "    \n",
    "    ### \n",
    "    \n",
    "    return pred"
   ]
  },
  {
   "cell_type": "code",
   "execution_count": 37,
   "id": "8bbb9d64-6349-4319-a5c5-14821ac0e7fe",
   "metadata": {},
   "outputs": [
    {
     "name": "stdout",
     "output_type": "stream",
     "text": [
      "Peter B-per\n",
      "Parker I-per\n",
      "White B-org\n",
      "House I-org\n",
      "United B-geo\n",
      "States I-geo\n",
      "Sunday B-tim\n",
      "morning I-tim\n",
      "White B-org\n",
      "House I-org\n"
     ]
    }
   ],
   "source": [
    "# Try the output for the introduction example\n",
    "#sentence = \"Many French citizens are goin to visit Morocco for summer\"\n",
    "#sentence = \"Sharon Floyd flew to Miami last Friday\"\n",
    "\n",
    "# New york times news:\n",
    "sentence = \"Peter Parker , the White House director of trade and manufacturing policy of United States , said in an interview on Sunday morning that the White House was working to prepare for the possibility of a second wave of the coronavirus in the fall , though he said it wouldn ’t necessarily come\"\n",
    "predictions = predict(sentence, model, sentence_vectorizer, tag_map)\n",
    "for x,y in zip(sentence.split(' '), predictions):\n",
    "    if y != 'O':\n",
    "        print(x,y)"
   ]
  },
  {
   "cell_type": "code",
   "execution_count": null,
   "id": "94626a1d-9c79-451a-8941-df75fdd13e6d",
   "metadata": {},
   "outputs": [],
   "source": []
  }
 ],
 "metadata": {
  "kernelspec": {
   "display_name": "Python 3 (ipykernel)",
   "language": "python",
   "name": "python3"
  },
  "language_info": {
   "codemirror_mode": {
    "name": "ipython",
    "version": 3
   },
   "file_extension": ".py",
   "mimetype": "text/x-python",
   "name": "python",
   "nbconvert_exporter": "python",
   "pygments_lexer": "ipython3",
   "version": "3.9.19"
  }
 },
 "nbformat": 4,
 "nbformat_minor": 5
}
